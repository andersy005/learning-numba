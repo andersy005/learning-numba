{
 "cells": [
  {
   "cell_type": "markdown",
   "metadata": {
    "slideshow": {
     "slide_type": "slide"
    }
   },
   "source": [
    "<h1 align=\"center\">The Sheer Joy of Accelerating Your Existing Python Code with Numba!</h1>"
   ]
  },
  {
   "cell_type": "markdown",
   "metadata": {
    "slideshow": {
     "slide_type": "slide"
    }
   },
   "source": [
    "## A quick note on Python"
   ]
  },
  {
   "cell_type": "markdown",
   "metadata": {
    "slideshow": {
     "slide_type": "fragment"
    }
   },
   "source": [
    " - One of the biggest complaints people have against Python is that it’s slow. Some people almost refuse to even try python because its slower than X. "
   ]
  },
  {
   "cell_type": "markdown",
   "metadata": {
    "slideshow": {
     "slide_type": "subslide"
    }
   },
   "source": [
    "**The Million Dollar Question:**\n",
    "><p style=\"color:blue;\"><strong>Why is Python so popular despite being so slow?</strong><p>\n",
    "    \n"
   ]
  },
  {
   "cell_type": "markdown",
   "metadata": {
    "slideshow": {
     "slide_type": "fragment"
    }
   },
   "source": [
    "For a long time, my unexpressed (and unjustified) answer to this question was:\n",
    ">**Yes, Python is Slow, and I Don’t Care :)!** \n"
   ]
  },
  {
   "cell_type": "markdown",
   "metadata": {
    "slideshow": {
     "slide_type": "fragment"
    }
   },
   "source": [
    "As I gained more experience with Python over time, I learned a great deal and was able to formulate a more **coherent answer** (mostly for myself):"
   ]
  },
  {
   "cell_type": "markdown",
   "metadata": {
    "slideshow": {
     "slide_type": "subslide"
    }
   },
   "source": [
    "- **Speed No Longer Matters**\n",
    "<br>\n",
    "\n",
    "    - Optimize your most expensive resource:\n",
    "    <br>\n",
    "    \n",
    "        - Historically, the most expensive resource was **CPU time**.\n",
    "        <br>\n",
    "        \n",
    "        - Today, **it is more important to get stuff done than to make it fast.**\n",
    "\n"
   ]
  },
  {
   "cell_type": "markdown",
   "metadata": {
    "slideshow": {
     "slide_type": "subslide"
    }
   },
   "source": [
    "\n",
    "- **But what if speed really does matter?** \n",
    "<br>\n",
    "\n",
    "    - Always try to find the bottlenecks in your code, via profiling first.\n",
    "    \n",
    "><p style=\"color:blue;\">\"Any improvements made anywhere besides the bottleneck are an illusion.\" ― Gene Kim, The Phoenix Project: A Novel About IT, DevOps, and Helping Your Business Win</p>\n",
    "\n",
    "><p style=\"color:blue;\">\"We should forget about small efficiencies, say about 97% of the time: <strong>premature optimization is the root of all evil.</strong> Yet we should not pass up our opportunities in that critical 3%.\" ― Donald Knuth</p>\n"
   ]
  },
  {
   "cell_type": "markdown",
   "metadata": {
    "slideshow": {
     "slide_type": "subslide"
    }
   },
   "source": [
    "\n",
    "- **The CPU time is rarely the limiting factor**\n",
    "<br>\n",
    "\n",
    "   -  Even if Python is slow, it doesn’t matter. The speed of the language (or CPU time) is almost never the issue. \n",
    "    \n",
    "Google actually did a study on this very concept, and they wrote a [**paper on it**](https://static.googleusercontent.com/media/research.google.com/en//archive/sawzall-sciprog.pdf). The paper talks about designing a high throughput system. In the conclusion, they say:\n",
    "\n",
    "> It may seem paradoxical to use an interpreted language in a high-throughput environment, but we have found that the CPU time is rarely the limiting factor; the expressibility of the language means that most programs are small and spend most of their time in I/O and native run-time code. Moreover, the flexibility of an interpreted implementation has been helpful, both in ease of experimentation at the linguistic level and in allowing us to explore ways to distribute the calculation across many machines.\n",
    "\n",
    "References:\n",
    "- Interpreting the Data: Parallel Analysis with Sawzall (https://static.googleusercontent.com/media/research.google.com/en//archive/sawzall-sciprog.pdf)"
   ]
  }
 ],
 "metadata": {
  "celltoolbar": "Slideshow",
  "kernelspec": {
   "display_name": "Python 3",
   "language": "python",
   "name": "python3"
  },
  "toc": {
   "base_numbering": 1,
   "nav_menu": {},
   "number_sections": false,
   "sideBar": true,
   "skip_h1_title": false,
   "title_cell": "Table of Contents",
   "title_sidebar": "Contents",
   "toc_cell": false,
   "toc_position": {},
   "toc_section_display": true,
   "toc_window_display": false
  }
 },
 "nbformat": 4,
 "nbformat_minor": 2
}
